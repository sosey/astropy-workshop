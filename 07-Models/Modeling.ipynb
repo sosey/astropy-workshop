{
 "cells": [
  {
   "cell_type": "markdown",
   "metadata": {},
   "source": [
    "## Overview of core astropy.modeling features\n",
    "\n",
    "- simple models\n",
    "- fitters\n",
    "- combined models\n",
    "- creating new models\n"
   ]
  },
  {
   "cell_type": "code",
   "execution_count": 6,
   "metadata": {
    "collapsed": true
   },
   "outputs": [],
   "source": [
    "import numpy as np\n",
    "%matplotlib inline\n",
    "from matplotlib import pyplot as plt"
   ]
  },
  {
   "cell_type": "markdown",
   "metadata": {},
   "source": [
    "[astropy.modeling](http://astropy.readthedocs.io/en/latest/modeling/index.html) is a framework for representing models and evaluating and fitting them.\n",
    "It is designed to be flexible and easily extensible. \n",
    "Models do not reference fitting algorithms explicitly and new fitting algorithms may be \n",
    "added without changing the existing models."
   ]
  },
  {
   "cell_type": "markdown",
   "metadata": {},
   "source": [
    "### Simple models"
   ]
  },
  {
   "cell_type": "markdown",
   "metadata": {},
   "source": [
    "A number of predefined models already exist in modeling. They all live under a common namespace - *models*."
   ]
  },
  {
   "cell_type": "code",
   "execution_count": 7,
   "metadata": {
    "collapsed": true
   },
   "outputs": [],
   "source": [
    "from astropy.modeling import models\n"
   ]
  },
  {
   "cell_type": "markdown",
   "metadata": {},
   "source": [
    "Most models are defined with their parameters and maintain an ordered list of parameter names.\n",
    "The names of the parameters can be found directly from the model."
   ]
  },
  {
   "cell_type": "code",
   "execution_count": 8,
   "metadata": {},
   "outputs": [
    {
     "data": {
      "text/plain": [
       "('amplitude', 'mean', 'stddev')"
      ]
     },
     "execution_count": 8,
     "metadata": {},
     "output_type": "execute_result"
    }
   ],
   "source": [
    "models.Gaussian1D.param_names"
   ]
  },
  {
   "cell_type": "markdown",
   "metadata": {},
   "source": [
    "They are initialized by providing values for the parameters."
   ]
  },
  {
   "cell_type": "code",
   "execution_count": 9,
   "metadata": {
    "collapsed": true
   },
   "outputs": [],
   "source": [
    "gauss = models.Gaussian1D(amplitude=5.3, mean=3.1, stddev=1.1)"
   ]
  },
  {
   "cell_type": "markdown",
   "metadata": {},
   "source": [
    "The order of the *Model.param_names* list is important because models can be initialized by simply providing the values as positional arguments"
   ]
  },
  {
   "cell_type": "code",
   "execution_count": 10,
   "metadata": {},
   "outputs": [
    {
     "name": "stdout",
     "output_type": "stream",
     "text": [
      "Model: Gaussian1D\n",
      "Inputs: ('x',)\n",
      "Outputs: ('y',)\n",
      "Model set size: 1\n",
      "Parameters:\n",
      "    amplitude mean stddev\n",
      "    --------- ---- ------\n",
      "          5.3  3.1    1.1\n"
     ]
    }
   ],
   "source": [
    "gauss = models.Gaussian1D(5.3, 3.1, 1.1)\n",
    "print(gauss)"
   ]
  },
  {
   "cell_type": "markdown",
   "metadata": {},
   "source": [
    "Model parameters are objects with attributes:"
   ]
  },
  {
   "cell_type": "code",
   "execution_count": 11,
   "metadata": {},
   "outputs": [
    {
     "data": {
      "text/plain": [
       "Parameter('mean', value=3.1)"
      ]
     },
     "execution_count": 11,
     "metadata": {},
     "output_type": "execute_result"
    }
   ],
   "source": [
    "gauss.mean"
   ]
  },
  {
   "cell_type": "code",
   "execution_count": 12,
   "metadata": {},
   "outputs": [
    {
     "name": "stdout",
     "output_type": "stream",
     "text": [
      "mean\n"
     ]
    }
   ],
   "source": [
    "print(gauss.mean.name)"
   ]
  },
  {
   "cell_type": "code",
   "execution_count": 13,
   "metadata": {},
   "outputs": [
    {
     "name": "stdout",
     "output_type": "stream",
     "text": [
      "3.1\n"
     ]
    }
   ],
   "source": [
    "print(gauss.mean.value)\n"
   ]
  },
  {
   "cell_type": "markdown",
   "metadata": {},
   "source": [
    "Most models have default values for their parameters and can be initialized without providing initial values."
   ]
  },
  {
   "cell_type": "code",
   "execution_count": 14,
   "metadata": {},
   "outputs": [
    {
     "name": "stdout",
     "output_type": "stream",
     "text": [
      "0\n"
     ]
    }
   ],
   "source": [
    "print(gauss.mean.default)"
   ]
  },
  {
   "cell_type": "code",
   "execution_count": 15,
   "metadata": {},
   "outputs": [
    {
     "data": {
      "text/plain": [
       "<Gaussian1D(amplitude=1.0, mean=0.0, stddev=1.0)>"
      ]
     },
     "execution_count": 15,
     "metadata": {},
     "output_type": "execute_result"
    }
   ],
   "source": [
    "models.Gaussian1D(amplitude=1, stddev=1)"
   ]
  },
  {
   "cell_type": "markdown",
   "metadata": {},
   "source": [
    "astropy.modeling supports parameter constraints:"
   ]
  },
  {
   "cell_type": "code",
   "execution_count": 16,
   "metadata": {},
   "outputs": [
    {
     "name": "stdout",
     "output_type": "stream",
     "text": [
      "('fixed', 'tied', 'bounds')\n"
     ]
    }
   ],
   "source": [
    "print(gauss.mean.constraints) # more on this later"
   ]
  },
  {
   "cell_type": "markdown",
   "metadata": {},
   "source": [
    "Models have also a *parameters* attribute which is a flattened list of all parameter values. It is what fitters operate on and can be used to update a model's parameters. The values are in the same order as *Model.param_list*."
   ]
  },
  {
   "cell_type": "code",
   "execution_count": 17,
   "metadata": {},
   "outputs": [
    {
     "name": "stdout",
     "output_type": "stream",
     "text": [
      "[ 5.3  3.1  1.1]\n"
     ]
    }
   ],
   "source": [
    "print(gauss.parameters)"
   ]
  },
  {
   "cell_type": "code",
   "execution_count": 18,
   "metadata": {},
   "outputs": [
    {
     "name": "stdout",
     "output_type": "stream",
     "text": [
      "Parameter('amplitude', value=10.0)\n"
     ]
    }
   ],
   "source": [
    "gauss.parameters = [10, 3.4, 1.2]\n",
    "print(gauss.amplitude)"
   ]
  },
  {
   "cell_type": "markdown",
   "metadata": {},
   "source": [
    "Individual parameter values can be changed by assignment:"
   ]
  },
  {
   "cell_type": "code",
   "execution_count": 19,
   "metadata": {},
   "outputs": [
    {
     "name": "stdout",
     "output_type": "stream",
     "text": [
      "Parameter('mean', value=1.4)\n"
     ]
    }
   ],
   "source": [
    "gauss.mean = 1.4\n",
    "print(gauss.mean)"
   ]
  },
  {
   "cell_type": "code",
   "execution_count": 20,
   "metadata": {},
   "outputs": [
    {
     "name": "stdout",
     "output_type": "stream",
     "text": [
      "[ 10.    1.4   1.2]\n"
     ]
    }
   ],
   "source": [
    "print(gauss.parameters)"
   ]
  },
  {
   "cell_type": "markdown",
   "metadata": {},
   "source": [
    "#### Model Evaluation"
   ]
  },
  {
   "cell_type": "markdown",
   "metadata": {},
   "source": [
    "Models are evaluated like functions, by passing the inputs. Each dimension is a separate input."
   ]
  },
  {
   "cell_type": "code",
   "execution_count": 21,
   "metadata": {
    "collapsed": true
   },
   "outputs": [],
   "source": [
    "x = np.linspace(-2, 5, 100)\n",
    "data = gauss(x)"
   ]
  },
  {
   "cell_type": "code",
   "execution_count": 22,
   "metadata": {
    "scrolled": true
   },
   "outputs": [
    {
     "data": {
      "text/plain": [
       "[<matplotlib.lines.Line2D at 0x11968beb8>]"
      ]
     },
     "execution_count": 22,
     "metadata": {},
     "output_type": "execute_result"
    },
    {
     "data": {
      "image/png": "[encoded data removed]",
      "text/plain": [
       "<matplotlib.figure.Figure at 0x1196116d8>"
      ]
     },
     "metadata": {},
     "output_type": "display_data"
    }
   ],
   "source": [
    "plt.plot(x, data)\n"
   ]
  },
  {
   "cell_type": "markdown",
   "metadata": {},
   "source": [
    "Models can be introspected to find out more about the inputs and outputs."
   ]
  },
  {
   "cell_type": "code",
   "execution_count": 23,
   "metadata": {},
   "outputs": [
    {
     "name": "stdout",
     "output_type": "stream",
     "text": [
      "gauss.n_inputs: 1\n",
      "gauss.n_outputs: 1\n"
     ]
    }
   ],
   "source": [
    "print(\"gauss.n_inputs:\", gauss.n_inputs)\n",
    "print(\"gauss.n_outputs:\", gauss.n_outputs)"
   ]
  },
  {
   "cell_type": "markdown",
   "metadata": {},
   "source": [
    "### Fitters"
   ]
  },
  {
   "cell_type": "markdown",
   "metadata": {},
   "source": [
    "Add noise to the data and fit a gaussian."
   ]
  },
  {
   "cell_type": "code",
   "execution_count": 24,
   "metadata": {},
   "outputs": [
    {
     "data": {
      "text/plain": [
       "[<matplotlib.lines.Line2D at 0x119794da0>]"
      ]
     },
     "execution_count": 24,
     "metadata": {},
     "output_type": "execute_result"
    },
    {
     "data": {
      "image/png": "[encoded data removed]",
      "text/plain": [
       "<matplotlib.figure.Figure at 0x119648b70>"
      ]
     },
     "metadata": {},
     "output_type": "display_data"
    }
   ],
   "source": [
    "data = gauss(x) + np.random.normal(0, 0.4, x.shape)\n",
    "plt.plot(x, data)"
   ]
  },
  {
   "cell_type": "markdown",
   "metadata": {},
   "source": [
    "Fitters are under a common namespace too:"
   ]
  },
  {
   "cell_type": "code",
   "execution_count": 25,
   "metadata": {
    "collapsed": true
   },
   "outputs": [],
   "source": [
    "from astropy.modeling import fitting"
   ]
  },
  {
   "cell_type": "markdown",
   "metadata": {},
   "source": [
    "Create a fitter which uses the Levenberg-Marquardt optimization algorithm and least squares statistics.\n",
    "\n",
    "Then pass the model and the data to the fitter. The output is a new model with fitted parameters.\n"
   ]
  },
  {
   "cell_type": "code",
   "execution_count": 26,
   "metadata": {
    "collapsed": true
   },
   "outputs": [],
   "source": [
    "fitter = fitting.LevMarLSQFitter()\n",
    "model = fitter(gauss, x, data)"
   ]
  },
  {
   "cell_type": "code",
   "execution_count": 27,
   "metadata": {},
   "outputs": [
    {
     "name": "stdout",
     "output_type": "stream",
     "text": [
      "[ 10.10511848   1.40647503   1.18039486]\n"
     ]
    }
   ],
   "source": [
    "print(model.parameters)\n",
    "#print(gauss.parameters)"
   ]
  },
  {
   "cell_type": "code",
   "execution_count": 28,
   "metadata": {},
   "outputs": [
    {
     "data": {
      "text/plain": [
       "<matplotlib.legend.Legend at 0x119c7b9b0>"
      ]
     },
     "execution_count": 28,
     "metadata": {},
     "output_type": "execute_result"
    },
    {
     "data": {
      "image/png": "[encoded data removed]",
      "text/plain": [
       "<matplotlib.figure.Figure at 0x1197ab6d8>"
      ]
     },
     "metadata": {},
     "output_type": "display_data"
    }
   ],
   "source": [
    "plt.plot(x, data, label='data')\n",
    "plt.plot(x, model(x), 'r', label='gaussian')\n",
    "plt.legend(loc=2)"
   ]
  },
  {
   "cell_type": "markdown",
   "metadata": {},
   "source": [
    "Fitters support parameter constraints of type *fixed*, *tied* and *bounds*.\n",
    "\n",
    "Fixed parameter constraints are boolean attributes. Let's fix the amplitude to its original value."
   ]
  },
  {
   "cell_type": "code",
   "execution_count": 29,
   "metadata": {},
   "outputs": [
    {
     "name": "stdout",
     "output_type": "stream",
     "text": [
      "[ 10.           1.40651468   1.18862972]\n"
     ]
    }
   ],
   "source": [
    "gauss.amplitude.fixed = True\n",
    "model = fitter(gauss, x, data)\n",
    "print(model.parameters)"
   ]
  },
  {
   "cell_type": "markdown",
   "metadata": {},
   "source": [
    "Bounds can be set on a parameter either by using *min* and *max* or the *bounds* attribute."
   ]
  },
  {
   "cell_type": "code",
   "execution_count": 30,
   "metadata": {},
   "outputs": [
    {
     "name": "stdout",
     "output_type": "stream",
     "text": [
      "(0.1, 0.6)\n"
     ]
    }
   ],
   "source": [
    "gauss.stddev.min = .1\n",
    "gauss.stddev.max = .6\n",
    "print(gauss.stddev.bounds)"
   ]
  },
  {
   "cell_type": "markdown",
   "metadata": {},
   "source": [
    "To show the mechanism of tieing (or linking) two parameters in the next example the stddev parameter is tied to the amplitude."
   ]
  },
  {
   "cell_type": "code",
   "execution_count": 31,
   "metadata": {
    "collapsed": true
   },
   "outputs": [],
   "source": [
    "def tie_stddev_ampl(model):\n",
    "    return model.amplitude / 3.78\n",
    "\n",
    "gauss.stddev.tied = tie_stddev_ampl"
   ]
  },
  {
   "cell_type": "code",
   "execution_count": 32,
   "metadata": {},
   "outputs": [
    {
     "name": "stdout",
     "output_type": "stream",
     "text": [
      "Model: Gaussian1D\n",
      "Inputs: ('x',)\n",
      "Outputs: ('y',)\n",
      "Model set size: 1\n",
      "Parameters:\n",
      "    amplitude      mean        stddev   \n",
      "    --------- ------------- ------------\n",
      "         10.0 1.31203021186 2.6455026455\n"
     ]
    },
    {
     "data": {
      "text/plain": [
       "[<matplotlib.lines.Line2D at 0x119c9a630>]"
      ]
     },
     "execution_count": 32,
     "metadata": {},
     "output_type": "execute_result"
    },
    {
     "data": {
      "image/png": "[encoded data removed]",
      "text/plain": [
       "<matplotlib.figure.Figure at 0x1197e9198>"
      ]
     },
     "metadata": {},
     "output_type": "display_data"
    }
   ],
   "source": [
    "model_tied = fitter(gauss, x, data)\n",
    "print(model_tied)\n",
    "plt.plot(x, data)\n",
    "plt.plot(x, model_tied(x))"
   ]
  },
  {
   "cell_type": "markdown",
   "metadata": {},
   "source": [
    "Support for parameter constraints varies between fitters. To see what is supported:"
   ]
  },
  {
   "cell_type": "code",
   "execution_count": 33,
   "metadata": {},
   "outputs": [
    {
     "name": "stdout",
     "output_type": "stream",
     "text": [
      "['fixed', 'tied', 'bounds']\n"
     ]
    }
   ],
   "source": [
    "print(fitting.LevMarLSQFitter.supported_constraints)"
   ]
  },
  {
   "cell_type": "markdown",
   "metadata": {},
   "source": [
    "astropy.modeling has several other fitters: *SimplexLSQFitter*, *SLSQPLSQFitter* and *LinearLSQFitter*.\n",
    "\n",
    "The last one can be used only with linear models and provides an exact solution."
   ]
  },
  {
   "cell_type": "markdown",
   "metadata": {},
   "source": [
    "#### Example\n",
    "Create a Chebyshev model, evaluate it and add noise to the data."
   ]
  },
  {
   "cell_type": "code",
   "execution_count": 34,
   "metadata": {},
   "outputs": [
    {
     "data": {
      "text/plain": [
       "[<matplotlib.lines.Line2D at 0x119e38b70>]"
      ]
     },
     "execution_count": 34,
     "metadata": {},
     "output_type": "execute_result"
    },
    {
     "data": {
      "image/png": "[encoded data removed]",
      "text/plain": [
       "<matplotlib.figure.Figure at 0x119cafb70>"
      ]
     },
     "metadata": {},
     "output_type": "display_data"
    }
   ],
   "source": [
    "cheb1 = models.Chebyshev1D(degree=3, c0=1, c2=1, c3=1)\n",
    "\n",
    "data = cheb1(x) + np.random.normal(0, 10, x.shape)\n",
    "plt.plot(x, data, 'r')"
   ]
  },
  {
   "cell_type": "markdown",
   "metadata": {},
   "source": [
    "Fit a *Chebyshev1D* polynomial using the *LinearLSQFitter*."
   ]
  },
  {
   "cell_type": "code",
   "execution_count": 35,
   "metadata": {},
   "outputs": [
    {
     "data": {
      "text/plain": [
       "<matplotlib.legend.Legend at 0x119f0ef28>"
      ]
     },
     "execution_count": 35,
     "metadata": {},
     "output_type": "execute_result"
    },
    {
     "data": {
      "image/png": "[encoded data removed]",
      "text/plain": [
       "<matplotlib.figure.Figure at 0x119e50160>"
      ]
     },
     "metadata": {},
     "output_type": "display_data"
    }
   ],
   "source": [
    "linfitter = fitting.LinearLSQFitter()\n",
    "model = linfitter(cheb1, x, data)\n",
    "\n",
    "plt.plot(x, data, label='data')\n",
    "plt.plot(x, model(x), 'r', label='fitted Chebyshev1D')\n",
    "plt.legend(loc=2)"
   ]
  },
  {
   "cell_type": "markdown",
   "metadata": {},
   "source": [
    "### Exercise 1:\n",
    "\n",
    "#Generate fake data\n",
    "```\n",
    "np.random.seed(0)\n",
    "x = np.linspace(-5., 5., 200)\n",
    "y = 3 * np.exp(-0.5 * (x - 1.3)**2 / 0.8**2)\n",
    "y += np.random.normal(0., 0.2, x.shape)\n",
    "```\n",
    "- Fit the data with a Trapezoid1D model.\n",
    "- Fit a Gaussian1D model to it.\n",
    "- Display the results."
   ]
  },
  {
   "cell_type": "markdown",
   "metadata": {},
   "source": [
    "### Model Sets"
   ]
  },
  {
   "cell_type": "markdown",
   "metadata": {},
   "source": [
    "There are cases when it's useful to describe many models of the same type but with different parameter values.\n",
    "This could be done by passing *n_models* to the model with an integer value indicating the number of models.\n",
    "This is especially useful in the context of simultaneously fitting many linear models using the *LinearLSQFittter*.\n",
    "\n",
    "Evaluation of sets of models works for all models while fitting of sets of models is currently supported only for linear models."
   ]
  },
  {
   "cell_type": "code",
   "execution_count": 36,
   "metadata": {},
   "outputs": [
    {
     "name": "stdout",
     "output_type": "stream",
     "text": [
      "Model: Polynomial1D\n",
      "Inputs: ('x',)\n",
      "Outputs: ('y',)\n",
      "Model set size: 10\n",
      "Degree: 2\n",
      "Parameters:\n",
      "     c0  c1  c2\n",
      "    --- --- ---\n",
      "    0.5 0.0 1.0\n",
      "    0.5 0.0 1.0\n",
      "    0.5 0.0 1.0\n",
      "    0.5 0.0 1.0\n",
      "    0.5 0.0 1.0\n",
      "    0.5 0.0 1.0\n",
      "    0.5 0.0 1.0\n",
      "    0.5 0.0 1.0\n",
      "    0.5 0.0 1.0\n",
      "    0.5 0.0 1.0\n"
     ]
    }
   ],
   "source": [
    "poly = models.Polynomial1D(degree=2, c0=0.5, c1=0, c2=1) # one model\n",
    "\n",
    "poly10 = models.Polynomial1D(degree=2, c0=0.5*np.ones(10), c2=np.ones(10), n_models=10) # 10 models\n",
    "print(poly10)"
   ]
  },
  {
   "cell_type": "code",
   "execution_count": 37,
   "metadata": {},
   "outputs": [
    {
     "name": "stdout",
     "output_type": "stream",
     "text": [
      "Model: Polynomial1D\n",
      "Inputs: ('x',)\n",
      "Outputs: ('y',)\n",
      "Model set size: 10\n",
      "Degree: 2\n",
      "Parameters:\n",
      "           c0         c1       c2      \n",
      "    ---------------- --- --------------\n",
      "     0.0505297148489 0.0  1.06356091679\n",
      "     -0.100130465529 0.0  1.00696992764\n",
      "     0.0912092017883 0.0 0.856523073801\n",
      "    -0.0374544044565 0.0 0.797531936801\n",
      "    0.00762127365869 0.0 0.956981863584\n",
      "    -0.0190879079471 0.0   1.2392094329\n",
      "     0.0154480922971 0.0   1.0808954546\n",
      "     0.0324721561378 0.0  1.05844588581\n",
      "    0.00106176172882 0.0  1.00585155926\n",
      "     0.0591509974253 0.0  1.12763267447\n"
     ]
    }
   ],
   "source": [
    "poly10real = models.Polynomial1D(degree=2, c0=0.5*np.ones(10) * np.random.normal(0, .1, 10),\n",
    "                             c2=np.ones(10) * np.random.normal(1, .1, 10), n_models=10)\n",
    "print(poly10real)"
   ]
  },
  {
   "cell_type": "code",
   "execution_count": 38,
   "metadata": {},
   "outputs": [
    {
     "data": {
      "image/png": "[encoded data removed]",
      "text/plain": [
       "<matplotlib.figure.Figure at 0x119f31390>"
      ]
     },
     "metadata": {},
     "output_type": "display_data"
    }
   ],
   "source": [
    "# Evaluate the model on data in the range [-1, 1].\n",
    "\n",
    "x = np.linspace(-1, 1, 21)\n",
    "y = poly10real(x, model_set_axis=False)\n",
    "for i in y:\n",
    "    plt.plot(x, i, 'b')"
   ]
  },
  {
   "cell_type": "code",
   "execution_count": 39,
   "metadata": {},
   "outputs": [
    {
     "name": "stdout",
     "output_type": "stream",
     "text": [
      "Model: Polynomial1D\n",
      "Inputs: ('x',)\n",
      "Outputs: ('y',)\n",
      "Model set size: 10\n",
      "Degree: 2\n",
      "Parameters:\n",
      "           c0                c1              c2      \n",
      "    ---------------- ----------------- --------------\n",
      "     0.0505297148489 2.30695693429e-16  1.06356091679\n",
      "     -0.100130465529 2.30695693429e-16  1.00696992764\n",
      "     0.0912092017883 1.15347846714e-16 0.856523073801\n",
      "    -0.0374544044565               0.0 0.797531936801\n",
      "    0.00762127365869 1.15347846714e-16 0.956981863584\n",
      "    -0.0190879079471 2.30695693429e-16   1.2392094329\n",
      "     0.0154480922971 2.30695693429e-16   1.0808954546\n",
      "     0.0324721561378 2.30695693429e-16  1.05844588581\n",
      "    0.00106176172882 2.30695693429e-16  1.00585155926\n",
      "     0.0591509974253 1.15347846714e-16  1.12763267447\n"
     ]
    }
   ],
   "source": [
    "fitpoly = linfitter(poly10, x, y)\n",
    "print(fitpoly)"
   ]
  },
  {
   "cell_type": "code",
   "execution_count": 40,
   "metadata": {},
   "outputs": [
    {
     "data": {
      "image/png": "[encoded data removed]",
      "text/plain": [
       "<matplotlib.figure.Figure at 0x119c9f588>"
      ]
     },
     "metadata": {},
     "output_type": "display_data"
    }
   ],
   "source": [
    "fitdata = fitpoly(x, model_set_axis=False)\n",
    "\n",
    "for i in fitdata:\n",
    "    plt.plot(x, i)"
   ]
  },
  {
   "cell_type": "markdown",
   "metadata": {},
   "source": [
    "### Compound models"
   ]
  },
  {
   "cell_type": "markdown",
   "metadata": {},
   "source": [
    "astropy.modeling supports model combination using arithmetic operators and the specially defined **join (&)** and **composition ( | )** operators."
   ]
  },
  {
   "cell_type": "code",
   "execution_count": 41,
   "metadata": {
    "collapsed": true
   },
   "outputs": [],
   "source": [
    "g1 = models.Gaussian1D(2, 0, 0.2, name='gauss1') # models have names\n",
    "g2 = models.Gaussian1D(3, 4, 1.5, name='gauss2')\n",
    "p1 = models.Polynomial1D(1, c0=1, c1=0.2, name='poly')\n",
    "model = g1 + g2 + p1"
   ]
  },
  {
   "cell_type": "markdown",
   "metadata": {},
   "source": [
    "Evaluating *model* is equivalent to evluating *g1(x) + g2(x) + p1(x)*."
   ]
  },
  {
   "cell_type": "code",
   "execution_count": 42,
   "metadata": {},
   "outputs": [
    {
     "data": {
      "text/plain": [
       "True"
      ]
     },
     "execution_count": 42,
     "metadata": {},
     "output_type": "execute_result"
    }
   ],
   "source": [
    "model(2.5) == g1(2.5) + g2(2.5) + p1(2.5)"
   ]
  },
  {
   "cell_type": "markdown",
   "metadata": {},
   "source": [
    "The other arithmetic operators work similarly. The only requirement is that all models accept the same input."
   ]
  },
  {
   "cell_type": "markdown",
   "metadata": {},
   "source": [
    "Compound models support the *param_names* and *parameters* attributes the same way simple models do."
   ]
  },
  {
   "cell_type": "code",
   "execution_count": 43,
   "metadata": {},
   "outputs": [
    {
     "name": "stdout",
     "output_type": "stream",
     "text": [
      "('amplitude_0', 'mean_0', 'stddev_0', 'amplitude_1', 'mean_1', 'stddev_1', 'c0_2', 'c1_2')\n",
      "[ 2.   0.   0.2  3.   4.   1.5  1.   0.2]\n"
     ]
    }
   ],
   "source": [
    "print(model.param_names)\n",
    "print(model.parameters)"
   ]
  },
  {
   "cell_type": "markdown",
   "metadata": {},
   "source": [
    "Parameter assignment works too. "
   ]
  },
  {
   "cell_type": "code",
   "execution_count": 44,
   "metadata": {},
   "outputs": [
    {
     "name": "stdout",
     "output_type": "stream",
     "text": [
      "[ 10.    0.    0.2   3.    4.    1.5   1.    0.2]\n"
     ]
    }
   ],
   "source": [
    "model.amplitude_0 = 10\n",
    "print(model.parameters)"
   ]
  },
  {
   "cell_type": "markdown",
   "metadata": {},
   "source": [
    "If child models have names they can be printed, otherwise *None* is printed."
   ]
  },
  {
   "cell_type": "code",
   "execution_count": 45,
   "metadata": {},
   "outputs": [
    {
     "name": "stdout",
     "output_type": "stream",
     "text": [
      "('gauss1', 'gauss2', 'poly')\n"
     ]
    }
   ],
   "source": [
    "print(model.submodel_names)"
   ]
  },
  {
   "cell_type": "markdown",
   "metadata": {},
   "source": [
    "Compound models can be sliced or indexed using their names or numerical indices like python lists."
   ]
  },
  {
   "cell_type": "code",
   "execution_count": 46,
   "metadata": {},
   "outputs": [
    {
     "name": "stdout",
     "output_type": "stream",
     "text": [
      "Model: Gaussian1D\n",
      "Name: gauss2\n",
      "Inputs: ('x',)\n",
      "Outputs: ('y',)\n",
      "Model set size: 1\n",
      "Parameters:\n",
      "    amplitude mean stddev\n",
      "    --------- ---- ------\n",
      "          3.0  4.0    1.5\n"
     ]
    }
   ],
   "source": [
    "print(model['gauss2'])"
   ]
  },
  {
   "cell_type": "code",
   "execution_count": 47,
   "metadata": {},
   "outputs": [
    {
     "name": "stdout",
     "output_type": "stream",
     "text": [
      "Model: CompoundModel2\n",
      "Inputs: ('x',)\n",
      "Outputs: ('y',)\n",
      "Model set size: 1\n",
      "Expression: [0] + [1]\n",
      "Components: \n",
      "    [0]: <Gaussian1D(amplitude=3.0, mean=4.0, stddev=1.5, name='gauss2')>\n",
      "\n",
      "    [1]: <Polynomial1D(1, c0=1.0, c1=0.2, name='poly')>\n",
      "Parameters:\n",
      "    amplitude_1 mean_1 stddev_1 c0_2 c1_2\n",
      "    ----------- ------ -------- ---- ----\n",
      "            3.0    4.0      1.5  1.0  0.2\n"
     ]
    }
   ],
   "source": [
    "print(model['gauss2' : ])"
   ]
  },
  {
   "cell_type": "markdown",
   "metadata": {},
   "source": [
    "The composition operator, *|*, combines models serially by chaining them one after the other. \n",
    "\n",
    "The number of outputs of a model must match the number of inputs of the next one."
   ]
  },
  {
   "cell_type": "code",
   "execution_count": 48,
   "metadata": {
    "collapsed": true
   },
   "outputs": [],
   "source": [
    "p2_1 = models.Polynomial2D(degree=1, c0_0=2, c0_1=.1, c1_0=2, name='Poly_X')\n",
    "rot = models.Rotation2D(angle=23.1, name='Rotation')"
   ]
  },
  {
   "cell_type": "markdown",
   "metadata": {},
   "source": [
    "Chaining these two models as below is an error because the polynomial has one output, while the rotation has two inputs."
   ]
  },
  {
   "cell_type": "code",
   "execution_count": 49,
   "metadata": {},
   "outputs": [
    {
     "ename": "ModelDefinitionError",
     "evalue": "Unsupported operands for |: Poly_X (n_inputs=2, n_outputs=1) and Rotation (n_inputs=2, n_outputs=2); n_outputs for the left-hand model must match n_inputs for the right-hand model.",
     "output_type": "error",
     "traceback": [
      "\u001b[0;31m---------------------------------------------------------------------------\u001b[0m",
      "\u001b[0;31mModelDefinitionError\u001b[0m                      Traceback (most recent call last)",
      "\u001b[0;32m<ipython-input-49-6928173b554b>\u001b[0m in \u001b[0;36m<module>\u001b[0;34m()\u001b[0m\n\u001b[0;32m----> 1\u001b[0;31m \u001b[0mbroken_model\u001b[0m \u001b[0;34m=\u001b[0m \u001b[0mp2_1\u001b[0m \u001b[0;34m|\u001b[0m \u001b[0mrot\u001b[0m\u001b[0;34m\u001b[0m\u001b[0m\n\u001b[0m",
      "\u001b[0;32m~/miniconda3/envs/astropy-workshop/lib/python3.5/site-packages/astropy/modeling/core.py\u001b[0m in \u001b[0;36m<lambda>\u001b[0;34m(left, right)\u001b[0m\n\u001b[1;32m     74\u001b[0m     \u001b[0;31m# Perform an arithmetic operation on two models.\u001b[0m\u001b[0;34m\u001b[0m\u001b[0;34m\u001b[0m\u001b[0m\n\u001b[1;32m     75\u001b[0m     return lambda left, right: _CompoundModelMeta._from_operator(oper,\n\u001b[0;32m---> 76\u001b[0;31m             left, right, **kwargs)\n\u001b[0m\u001b[1;32m     77\u001b[0m \u001b[0;34m\u001b[0m\u001b[0m\n\u001b[1;32m     78\u001b[0m \u001b[0;34m\u001b[0m\u001b[0m\n",
      "\u001b[0;32m~/miniconda3/envs/astropy-workshop/lib/python3.5/site-packages/astropy/modeling/core.py\u001b[0m in \u001b[0;36m_from_operator\u001b[0;34m(mcls, operator, left, right, additional_members)\u001b[0m\n\u001b[1;32m   2382\u001b[0m             \u001b[0mmodname\u001b[0m \u001b[0;34m=\u001b[0m \u001b[0;34m'__main__'\u001b[0m\u001b[0;34m\u001b[0m\u001b[0m\n\u001b[1;32m   2383\u001b[0m \u001b[0;34m\u001b[0m\u001b[0m\n\u001b[0;32m-> 2384\u001b[0;31m         \u001b[0minputs\u001b[0m\u001b[0;34m,\u001b[0m \u001b[0moutputs\u001b[0m \u001b[0;34m=\u001b[0m \u001b[0mmcls\u001b[0m\u001b[0;34m.\u001b[0m\u001b[0m_check_inputs_and_outputs\u001b[0m\u001b[0;34m(\u001b[0m\u001b[0moperator\u001b[0m\u001b[0;34m,\u001b[0m \u001b[0mleft\u001b[0m\u001b[0;34m,\u001b[0m \u001b[0mright\u001b[0m\u001b[0;34m)\u001b[0m\u001b[0;34m\u001b[0m\u001b[0m\n\u001b[0m\u001b[1;32m   2385\u001b[0m \u001b[0;34m\u001b[0m\u001b[0m\n\u001b[1;32m   2386\u001b[0m         \u001b[0;32mif\u001b[0m \u001b[0moperator\u001b[0m \u001b[0;32min\u001b[0m \u001b[0;34m(\u001b[0m\u001b[0;34m'|'\u001b[0m\u001b[0;34m,\u001b[0m \u001b[0;34m'+'\u001b[0m\u001b[0;34m,\u001b[0m \u001b[0;34m'-'\u001b[0m\u001b[0;34m)\u001b[0m\u001b[0;34m:\u001b[0m\u001b[0;34m\u001b[0m\u001b[0m\n",
      "\u001b[0;32m~/miniconda3/envs/astropy-workshop/lib/python3.5/site-packages/astropy/modeling/core.py\u001b[0m in \u001b[0;36m_check_inputs_and_outputs\u001b[0;34m(mcls, operator, left, right)\u001b[0m\n\u001b[1;32m   2449\u001b[0m                     \"for the right-hand model.\".format(\n\u001b[1;32m   2450\u001b[0m                         \u001b[0mleft\u001b[0m\u001b[0;34m.\u001b[0m\u001b[0mname\u001b[0m\u001b[0;34m,\u001b[0m \u001b[0mleft\u001b[0m\u001b[0;34m.\u001b[0m\u001b[0mn_inputs\u001b[0m\u001b[0;34m,\u001b[0m \u001b[0mleft\u001b[0m\u001b[0;34m.\u001b[0m\u001b[0mn_outputs\u001b[0m\u001b[0;34m,\u001b[0m \u001b[0mright\u001b[0m\u001b[0;34m.\u001b[0m\u001b[0mname\u001b[0m\u001b[0;34m,\u001b[0m\u001b[0;34m\u001b[0m\u001b[0m\n\u001b[0;32m-> 2451\u001b[0;31m                         right.n_inputs, right.n_outputs))\n\u001b[0m\u001b[1;32m   2452\u001b[0m         \u001b[0;32melif\u001b[0m \u001b[0moperator\u001b[0m \u001b[0;34m==\u001b[0m \u001b[0;34m'&'\u001b[0m\u001b[0;34m:\u001b[0m\u001b[0;34m\u001b[0m\u001b[0m\n\u001b[1;32m   2453\u001b[0m             \u001b[0minputs\u001b[0m \u001b[0;34m=\u001b[0m \u001b[0mcombine_labels\u001b[0m\u001b[0;34m(\u001b[0m\u001b[0mleft\u001b[0m\u001b[0;34m.\u001b[0m\u001b[0minputs\u001b[0m\u001b[0;34m,\u001b[0m \u001b[0mright\u001b[0m\u001b[0;34m.\u001b[0m\u001b[0minputs\u001b[0m\u001b[0;34m)\u001b[0m\u001b[0;34m\u001b[0m\u001b[0m\n",
      "\u001b[0;31mModelDefinitionError\u001b[0m: Unsupported operands for |: Poly_X (n_inputs=2, n_outputs=1) and Rotation (n_inputs=2, n_outputs=2); n_outputs for the left-hand model must match n_inputs for the right-hand model."
     ]
    }
   ],
   "source": [
    "broken_model = p2_1 | rot "
   ]
  },
  {
   "cell_type": "markdown",
   "metadata": {},
   "source": [
    "The join operator, *&*, evaluates the child models on independent inputs and the results are concatenated.\n",
    "\n",
    "The number of inputs passed to the combined model must equal the total number of inputs of all models."
   ]
  },
  {
   "cell_type": "code",
   "execution_count": 50,
   "metadata": {
    "collapsed": true
   },
   "outputs": [],
   "source": [
    "p2_2 = models.Polynomial2D(degree=1, c0_0=1, c1_0=2, name='Poly_Y')\n",
    "model = p2_1 & p2_2 | rot"
   ]
  },
  {
   "cell_type": "code",
   "execution_count": 51,
   "metadata": {},
   "outputs": [
    {
     "name": "stdout",
     "output_type": "stream",
     "text": [
      "(2.8420434013885805, 4.908603600274077)\n"
     ]
    }
   ],
   "source": [
    "#x = np.linspace(1, 10, 23)\n",
    "#y = np.linspace(-10, 10, 23)\n",
    "#plt.imshow(model(x, y, x, y))\n",
    "x = 1.2\n",
    "y = 1.4\n",
    "print(model(x, y, x, y))"
   ]
  },
  {
   "cell_type": "markdown",
   "metadata": {},
   "source": [
    "The **Mapping** model takes a tuple of indices into the inputs and returns the corresponding inputs. It is useful for changing the order of inputs, dropping or adding inputs. "
   ]
  },
  {
   "cell_type": "code",
   "execution_count": 52,
   "metadata": {},
   "outputs": [
    {
     "name": "stdout",
     "output_type": "stream",
     "text": [
      "(2.8420434013885805, 4.908603600274077)\n"
     ]
    }
   ],
   "source": [
    "model = models.Mapping((0, 1, 0, 1)) | p2_1 & p2_2 | rot\n",
    "print(model(x, y))"
   ]
  },
  {
   "cell_type": "markdown",
   "metadata": {},
   "source": [
    "Compound models also support parameter constraints. Constraints are defined on parameters of the compound model, not parameters of the submodels."
   ]
  },
  {
   "cell_type": "markdown",
   "metadata": {
    "collapsed": true
   },
   "source": [
    "Example 2:\n",
    "\n",
    "- read a spectrum from a text file (data/sample_sdss.txt).\n",
    "- Using the rest wavelengths as initial values, fit a gaussian to the H beta and OIII lines.\n",
    "\n",
    "Use the rest wavelengths as initial values for the locaiton of the lines.\n",
    "```\n",
    "Hbeta = 4862.721\n",
    "Halpha = 6564.614\n",
    "OIII_1 = 4958.911\n",
    "OIII_2 = 5008.239\n",
    "Na = 6549.86\n",
    "Nb = 6585.27\n",
    "Sa = 6718.29\n",
    "Sb = 6732.68\n",
    "```"
   ]
  },
  {
   "cell_type": "markdown",
   "metadata": {},
   "source": [
    "### Inverse of a model"
   ]
  },
  {
   "cell_type": "markdown",
   "metadata": {},
   "source": [
    "Models have their analytical inverse already defined. It is also possible to assign a \"custom_inverse\" by assigning a model to the *inverse* attribute."
   ]
  },
  {
   "cell_type": "code",
   "execution_count": 50,
   "metadata": {},
   "outputs": [
    {
     "name": "stdout",
     "output_type": "stream",
     "text": [
      "Model: Rotation2D\n",
      "Inputs: ('x', 'y')\n",
      "Outputs: ('x', 'y')\n",
      "Model set size: 1\n",
      "Parameters:\n",
      "    angle\n",
      "    -----\n",
      "    -23.1\n"
     ]
    }
   ],
   "source": [
    "print(rot.inverse)"
   ]
  },
  {
   "cell_type": "markdown",
   "metadata": {},
   "source": [
    "### This returns an error because an analytical inverse transform has not been implemented for this model yet"
   ]
  },
  {
   "cell_type": "code",
   "execution_count": 51,
   "metadata": {},
   "outputs": [
    {
     "ename": "NotImplementedError",
     "evalue": "An analytical inverse transform has not been implemented for this model.",
     "output_type": "error",
     "traceback": [
      "\u001b[0;31m---------------------------------------------------------------------------\u001b[0m",
      "\u001b[0;31mNotImplementedError\u001b[0m                       Traceback (most recent call last)",
      "\u001b[0;32m<ipython-input-51-6e3e91389fde>\u001b[0m in \u001b[0;36m<module>\u001b[0;34m()\u001b[0m\n\u001b[0;32m----> 1\u001b[0;31m \u001b[0mprint\u001b[0m\u001b[0;34m(\u001b[0m\u001b[0mp2_2\u001b[0m\u001b[0;34m.\u001b[0m\u001b[0minverse\u001b[0m\u001b[0;34m)\u001b[0m\u001b[0;34m\u001b[0m\u001b[0m\n\u001b[0m",
      "\u001b[0;32m~/miniconda3/envs/astropy-workshop/lib/python3.5/site-packages/astropy/modeling/core.py\u001b[0m in \u001b[0;36minverse\u001b[0;34m(self)\u001b[0m\n\u001b[1;32m    983\u001b[0m             \u001b[0;32mreturn\u001b[0m \u001b[0mself\u001b[0m\u001b[0;34m.\u001b[0m\u001b[0m_inverse\u001b[0m\u001b[0;34m(\u001b[0m\u001b[0;34m)\u001b[0m\u001b[0;34m\u001b[0m\u001b[0m\n\u001b[1;32m    984\u001b[0m \u001b[0;34m\u001b[0m\u001b[0m\n\u001b[0;32m--> 985\u001b[0;31m         raise NotImplementedError(\"An analytical inverse transform has not \"\n\u001b[0m\u001b[1;32m    986\u001b[0m                                   \"been implemented for this model.\")\n\u001b[1;32m    987\u001b[0m \u001b[0;34m\u001b[0m\u001b[0m\n",
      "\u001b[0;31mNotImplementedError\u001b[0m: An analytical inverse transform has not been implemented for this model."
     ]
    }
   ],
   "source": [
    "print(p2_2.inverse)"
   ]
  },
  {
   "cell_type": "markdown",
   "metadata": {},
   "source": [
    "### Once you assign a transform it should work:"
   ]
  },
  {
   "cell_type": "code",
   "execution_count": 52,
   "metadata": {},
   "outputs": [
    {
     "name": "stdout",
     "output_type": "stream",
     "text": [
      "Model: Polynomial2D\n",
      "Name: Poly_X\n",
      "Inputs: ('x', 'y')\n",
      "Outputs: ('z',)\n",
      "Model set size: 1\n",
      "Degree: 1\n",
      "Parameters:\n",
      "    c0_0 c1_0 c0_1\n",
      "    ---- ---- ----\n",
      "     2.0  2.0  0.1\n"
     ]
    }
   ],
   "source": [
    "p2_2.inverse = p2_1\n",
    "print(p2_2.inverse)"
   ]
  },
  {
   "cell_type": "markdown",
   "metadata": {},
   "source": [
    "### Creating a new model"
   ]
  },
  {
   "cell_type": "markdown",
   "metadata": {},
   "source": [
    "Quite a few models are already defined in modeling. In order to see a list of the models, don't execute the following cell, instead place your cursor after the period and hit the \"tab\" key, this will bring up a list of models:"
   ]
  },
  {
   "cell_type": "code",
   "execution_count": null,
   "metadata": {
    "collapsed": true
   },
   "outputs": [],
   "source": [
    "models."
   ]
  },
  {
   "cell_type": "markdown",
   "metadata": {},
   "source": [
    "In most cases a new model can be easily defined following an existing model as an example.\n",
    "\n",
    "However, there's also a decorator, which works with user defined functions and turns them onto models."
   ]
  },
  {
   "cell_type": "code",
   "execution_count": 53,
   "metadata": {},
   "outputs": [
    {
     "name": "stdout",
     "output_type": "stream",
     "text": [
      "-0.4693033951206923\n"
     ]
    }
   ],
   "source": [
    "from astropy.modeling.models import custom_model\n",
    "\n",
    "@custom_model\n",
    "def sine_model(x, amplitude=1, frequency=1):\n",
    "    return amplitude * np.sin(2 * np.pi * frequency * x)\n",
    "\n",
    "model = sine_model(amplitude=3, frequency=2.1) # initialize the model\n",
    "print(model(0.25))"
   ]
  },
  {
   "cell_type": "markdown",
   "metadata": {},
   "source": [
    "To supply also a derivative, *custom_model* can be used as a function."
   ]
  },
  {
   "cell_type": "code",
   "execution_count": 54,
   "metadata": {},
   "outputs": [
    {
     "name": "stdout",
     "output_type": "stream",
     "text": [
      "-0.4693033951206923\n"
     ]
    }
   ],
   "source": [
    "def sine_model(x, amplitude=1, frequency=1):\n",
    "    return amplitude * np.sin(2 * np.pi * frequency * x)\n",
    "\n",
    "def sine_deriv(x, amplitude=1, frequency=1):\n",
    "    return 2 * np.pi * amplitude * np.cos(2 * np.pi * frequency *x)\n",
    "\n",
    "SineModel = custom_model(sine_model, fit_deriv=sine_deriv) # create the class\n",
    "model = SineModel(3, 2.1)# and initialize the model\n",
    "print(model(0.25))"
   ]
  },
  {
   "cell_type": "code",
   "execution_count": null,
   "metadata": {
    "collapsed": true
   },
   "outputs": [],
   "source": []
  },
  {
   "cell_type": "code",
   "execution_count": null,
   "metadata": {
    "collapsed": true
   },
   "outputs": [],
   "source": []
  }
 ],
 "metadata": {
  "anaconda-cloud": {},
  "kernelspec": {
   "display_name": "Python 3",
   "language": "python",
   "name": "python3"
  },
  "language_info": {
   "codemirror_mode": {
    "name": "ipython",
    "version": 3
   },
   "file_extension": ".py",
   "mimetype": "text/x-python",
   "name": "python",
   "nbconvert_exporter": "python",
   "pygments_lexer": "ipython3",
   "version": "3.5.4"
  }
 },
 "nbformat": 4,
 "nbformat_minor": 1
}
